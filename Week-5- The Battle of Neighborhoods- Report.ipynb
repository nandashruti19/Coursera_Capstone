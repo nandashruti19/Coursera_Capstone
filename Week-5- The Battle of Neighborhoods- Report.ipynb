{
 "cells": [
  {
   "cell_type": "markdown",
   "metadata": {
    "collapsed": true
   },
   "source": [
    "## This Assignment is for Week 5 Capstone Project - Final Report "
   ]
  },
  {
   "cell_type": "markdown",
   "metadata": {},
   "source": [
    "## Capstone Project - The Battle of Neighborhoods "
   ]
  },
  {
   "cell_type": "markdown",
   "metadata": {},
   "source": [
    "\n",
    "**Introduction**\n",
    "\n",
    "For this Capstone project, lets assume we are doing data analysis for a concept Indian restaurant Chain who wants to explore opening an authentic Indian restaurant in Toronto neighborhood. The idea behind this project is to analyse the data and come up with neighborhoods/Cluster in Toronto, Canada. Finding the location to open such a restaurant is one of the most important decisions for this restaurant chain and I am designing this project to help them find the most suitable location.\n",
    "\n",
    "**Business Problem**\n",
    "\n",
    "The objective of this capstone project is to find the most suitable location for the Restaurant Chain to open a new Indian restaurant in Toronto, Canada. By using data science methods and machine learning methods such as clustering, this project aims to provide solutions to answer the business question: In Toronto, if an Restaurant chain wants to open an Indian restaurant, where should they consider opening it?\n",
    "\n",
    "**Target Audience**\n",
    "\n",
    "The restaurant chain who wants to find the location to open authentic Indian restaurant"
   ]
  },
  {
   "cell_type": "markdown",
   "metadata": {},
   "source": [
    "**Data**\n",
    "\n",
    "To solve this problem, we will need below data:\n",
    "\n",
    "1. List of neighborhoods in Toronto, Canada.\n",
    "2. Latitude and Longitude of these neighborhoods.\n",
    "3. Venue data related to other Indian restaurants. This will help us find the neighborhoods that are most suitable to open a Indian restaurant.\n",
    "\n",
    "**Extracting the data**\n",
    "\n",
    "* Scrapping of Toronto neighborhoods via Wikipedia\n",
    "* Getting Latitude and Longitude data of these neighborhoods via Geocoder package\n",
    "* Using Foursquare API to get venue data related to these neighborhoods"
   ]
  },
  {
   "cell_type": "markdown",
   "metadata": {},
   "source": [
    "**Methodology**\n",
    "\n",
    "First, I need to get the list of neighborhoods in Toronto, Canada. This is possible by extracting the list of neighborhoods from wikipedia page \n",
    "\n",
    "* (“https://en.wikipedia.org/wiki/List_of_postal_codes_of_Canada:_M”) -- Toronto, CA\n",
    "\n",
    "\n",
    "I did the web scraping by utilizing pandas html table scraping method as it is easier and more convenient to pull tabular data directly from a web page into dataframe.\n",
    "\n",
    "However, it is only a list of neighborhood names and postal codes. I will need to get their coordinates to utilize Foursquare to pull the list of venues near these neighborhoods. To get the coordinates, I used the csv file provided by IBM team to match the coordinates of Toronto neighborhoods. After gathering all these coordinates, I visualized the map of Toronto using Folium package to verify whether these are correct coordinates.\n",
    "\n",
    "Next, I use Foursquare API to pull the list of top 100 venues within 500 meters radius. I have created a Foursquare developer account in order to obtain account ID and API key to pull the data. From Foursquare, I am able to pull the names, categories, latitude and longitude of the venues. With this data, I can also check how many unique categories that I can get from these venues. Then, I analyze each neighborhood by grouping the rows by neighborhood and taking the mean on the frequency of occurrence of each venue category. This is to prepare clustering to be done later.\n",
    "\n",
    "Here, I made a justification to specifically look for “Indian restaurants”. \n",
    "\n",
    "Lastly, I performed the clustering method by using k-means clustering. `I am keeping k as 4.` K-means clustering algorithm identifies k number of centeriods, and then allocates every data point to the nearest cluster, while keeping the centroids as small as possible. It is one of the simplest and popular unsupervised machine learning algorithms and it is highly suited for this project as well. I have clustered the neighborhoods in Toronto into 3 clusters based on their frequency of occurrence for “Thai food”. Based on the results (the concentration of clusters), I will be able to recommend the ideal location to open the Indian restaurant.\n",
    "\n",
    "**Results**\n",
    "\n",
    "***Clusters***\n",
    "\n",
    "\n",
    "The results from k-means clustering show that we can categorize Toronto neighborhoods into 4 clusters based on how many Indian restaurants are in each neighborhood:\n",
    "\n",
    "* Cluster 0: Neighborhoods with little or no Indian restaurants \n",
    "* Cluster 1: Neighborhoods with no Indian restaurants \n",
    "* Cluster 2: Neighborhoods with high number of Indian restaurants \n",
    "* Cluster 3: Neighborhoods with fewer Indian restaurants \n",
    "\n",
    "\n",
    "**Recommendations**\n",
    "\n",
    "There are no Indian Restaurant in Cluster 1, which includes neighborhood like Richmond, Adelaide, King, Parkdale, Queen's park, Forest Hill, etc. Cluster 2 and 3 have good count of Indian Restaurants, whereas Cluster 0 has some restaurants in that neighborhood.\n",
    "\n",
    "Studying the above cluster, I would recommend the food chain restaurant to open an Indian restaurant in Cluster 1 with little to no competition.\n",
    "\n",
    "**Limitations and Suggestions for Future Research**\n",
    "\n",
    "In this project, I only take into consideration of one factor: the occurrence / existence of Indian restaurants in each neighborhood. In addition, I am relying on the existence of Indian restaurants only for this project but future research can take into consideration of other variables such as existence of Asian/Chinese/MiddleEast restaurants, Indian population level in each neighborhood etc.\n",
    "\n",
    "**Conclusion**\n",
    "\n",
    "In this project, we have gone through the process of identifying the business problem, specifying the data required, extracting and preparing the data, performing the machine learning by utilizing k-means clustering and providing recommendation to the stakeholder.\n",
    "\n",
    "**References**\n",
    "\n",
    "List of neighborhoods in Toronto: https://en.wikipedia.org/wiki/List_of_postal_codes_of_Canada:_M\n",
    "\n",
    "Foursquare Developer Documentation: https://developer.foursquare.com/docs"
   ]
  },
  {
   "cell_type": "code",
   "execution_count": null,
   "metadata": {},
   "outputs": [],
   "source": []
  }
 ],
 "metadata": {
  "kernelspec": {
   "display_name": "Python 3",
   "language": "python",
   "name": "python3"
  },
  "language_info": {
   "codemirror_mode": {
    "name": "ipython",
    "version": 3
   },
   "file_extension": ".py",
   "mimetype": "text/x-python",
   "name": "python",
   "nbconvert_exporter": "python",
   "pygments_lexer": "ipython3",
   "version": "3.7.6"
  }
 },
 "nbformat": 4,
 "nbformat_minor": 1
}
